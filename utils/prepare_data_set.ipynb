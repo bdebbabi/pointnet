{
 "nbformat": 4,
 "nbformat_minor": 2,
 "metadata": {
  "language_info": {
   "name": "python",
   "codemirror_mode": {
    "name": "ipython",
    "version": 3
   },
   "version": "3.7.0-final"
  },
  "orig_nbformat": 2,
  "file_extension": ".py",
  "mimetype": "text/x-python",
  "name": "python",
  "npconvert_exporter": "python",
  "pygments_lexer": "ipython3",
  "version": 3,
  "kernelspec": {
   "name": "python37064bit6257f2c618fc47fab404bdeb6c2513db",
   "display_name": "Python 3.7.0 64-bit"
  }
 },
 "cells": [
  {
   "cell_type": "code",
   "execution_count": 1,
   "metadata": {},
   "outputs": [],
   "source": [
    "from os.path import splitext, join\n",
    "import numpy as np\n",
    "from  tqdm import tqdm\n",
    "import h5py\n",
    "import pandas as pd\n",
    "import open3d as o3d\n",
    "import random\n",
    ""
   ]
  },
  {
   "cell_type": "code",
   "execution_count": 4,
   "metadata": {},
   "outputs": [],
   "source": [
    "# Select files\n",
    "files = np.array(os.listdir('HeadPointsAndLabels'))\n",
    "point_files = np.sort(files[[splitext(file)[1] == '.pts' for file in files]])\n",
    "pid_files = np.sort(files[[splitext(file)[1] == '.seg' for file in files]])"
   ]
  },
  {
   "cell_type": "code",
   "execution_count": 75,
   "metadata": {},
   "outputs": [
    {
     "output_type": "stream",
     "name": "stderr",
     "text": "100%|██████████| 50/50 [00:02<00:00, 18.77it/s]\n"
    }
   ],
   "source": [
    "# Get points\n",
    "points = []\n",
    "for file in tqdm(point_files[0:50]): \n",
    "    points.append(pd.read_csv(join('HeadPointsAndLabels',file),sep =' ').to_numpy())\n",
    "points= np.array(points)"
   ]
  },
  {
   "cell_type": "code",
   "execution_count": 74,
   "metadata": {},
   "outputs": [
    {
     "output_type": "stream",
     "name": "stderr",
     "text": "100%|██████████| 50/50 [00:00<00:00, 58.23it/s]\n"
    }
   ],
   "source": [
    "# Get pid\n",
    "pid = []\n",
    "for file in tqdm(pid_files[0:50]): \n",
    "    pid.append(pd.read_csv(join('HeadPointsAndLabels',file)).to_numpy().flatten())\n",
    "pid = np.array(pid)"
   ]
  },
  {
   "cell_type": "code",
   "execution_count": 88,
   "metadata": {},
   "outputs": [
    {
     "output_type": "stream",
     "name": "stdout",
     "text": "(2073, 3)\n"
    }
   ],
   "source": [
    "# Downsample points\n",
    "pcd = o3d.geometry.PointCloud()\n",
    "pcd.points = o3d.utility.Vector3dVector(points[0])\n",
    "# 2048 random points \n",
    "# pcd.points = o3d.utility.Vector3dVector(points[0][random.sample(range(points[0].shape[0]), 2048),:])\n",
    "\n",
    "pcd = pcd.uniform_down_sample(every_k_points=int(points[0].shape[0]/2048))\n",
    "#pcd = pcd.voxel_down_sample(voxel_size=10)\n",
    "print(np.asarray(pcd.points).shape)\n",
    "o3d.visualization.draw_geometries([pcd])"
   ]
  },
  {
   "cell_type": "code",
   "execution_count": 159,
   "metadata": {},
   "outputs": [],
   "source": [
    "# Create h5 file\n",
    "with h5py.File(\"ply_data_train.h5\", \"w\") as train_file:\n",
    "    train_file.create_dataset(\"data\", data = points)\n",
    "    train_file.create_dataset(\"pid\", data = pid)\n",
    "    train_file.create_dataset(\"label\", data = np.array([0]))"
   ]
  },
  {
   "cell_type": "code",
   "execution_count": 115,
   "metadata": {},
   "outputs": [],
   "source": [
    "# Read h5 file\n",
    "with h5py.File(\"ply_data_train.h5\", \"r\") as train_file:\n",
    "    data = train_file['data']\n",
    "    pid = train_file['pid']\n",
    "    label = train_file['label']\n"
   ]
  },
  {
   "cell_type": "code",
   "execution_count": 86,
   "metadata": {},
   "outputs": [],
   "source": [
    "def display_labels(cloud, labels):\n",
    "    pcd = o3d.geometry.PointCloud()\n",
    "    pcd.points = o3d.utility.Vector3dVector(cloud)\n",
    "\n",
    "    no_label_cloud, left_eye_cloud, right_eye_cloud, nose_cloud, mouth_cloud = [pcd.select_down_sample(list(np.where(labels==l)[0])) for l in [0,1,2,3,4]]\n",
    "\n",
    "    no_label_cloud.paint_uniform_color([0, 255, 255])\n",
    "    left_eye_cloud.paint_uniform_color([255, 0, 0])\n",
    "    right_eye_cloud.paint_uniform_color([0, 255, 0])\n",
    "    nose_cloud.paint_uniform_color([255, 0, 255])\n",
    "    mouth_cloud.paint_uniform_color([255, 255, 0])\n",
    "    o3d.visualization.draw_geometries([no_label_cloud, left_eye_cloud, right_eye_cloud, nose_cloud, mouth_cloud])"
   ]
  },
  {
   "cell_type": "code",
   "execution_count": 92,
   "metadata": {},
   "outputs": [],
   "source": [
    "display_labels(points[16], pid[16])"
   ]
  },
  {
   "cell_type": "code",
   "execution_count": 91,
   "metadata": {},
   "outputs": [],
   "source": [
    "indexes = [idx for idx in range(0, points[0].shape[0], int(points[0].shape[0]/2048))]\n",
    "points[0][indexes]\n",
    "pid[0][indexes]\n",
    "display_labels(points[0][indexes], pid[0][indexes])"
   ]
  },
  {
   "cell_type": "code",
   "execution_count": 60,
   "metadata": {},
   "outputs": [
    {
     "output_type": "execute_result",
     "data": {
      "text/plain": "0    1971\n3      53\n4      33\n1      10\n2       6\nName: d, dtype: int64"
     },
     "metadata": {},
     "execution_count": 60
    }
   ],
   "source": [
    "pd.DataFrame(pid[0][indexes], columns=['d'])['d'].value_counts()"
   ]
  },
  {
   "cell_type": "code",
   "execution_count": null,
   "metadata": {},
   "outputs": [],
   "source": []
  }
 ]
}